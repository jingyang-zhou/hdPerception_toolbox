{
 "cells": [
  {
   "cell_type": "code",
   "execution_count": 1,
   "id": "6437456e-f209-4c65-9778-e8e3b1782ac4",
   "metadata": {},
   "outputs": [],
   "source": [
    "import numpy as np\n"
   ]
  },
  {
   "cell_type": "code",
   "execution_count": null,
   "id": "4ac3c243-f3e6-4804-a359-7f3797582294",
   "metadata": {},
   "outputs": [],
   "source": [
    "# metrics\n",
    "\n",
    "def grassmanDistance(orthBasis1, orthBasis2):\n",
    "    \"\"\"\n",
    "    INPUTS: \n",
    "    orthBasis1: an (p x n) matrix, n is the number of orthogonal vectors, and\n",
    "             p is the dimensionality of each vector. I assume the n vectors\n",
    "             are orthogonal to each other, because they are the\n",
    "             eigenvectors of a discrimination ellipsoid. \n",
    "    orthBasis2: same dimensionality as orthBasis1, but for a different discriminability ellipsoid\n",
    "    \n",
    "    OUTPUTS:\n",
    "    dist: Grassman distance, or distance between two subspaces\n",
    "    \"\"\"\n",
    "    U, S, VT = np.linalg.svd(np.dot(orthBasis1.T, orthBasis2))\n",
    "    cos_thetas = np.diag(S)\n",
    "    thetas = np.arccos(cos_thetas)\n",
    "    distance = np.sqrt(np.sqrt(np.sum(thetas ** 2)))\n",
    "    return distance"
   ]
  }
 ],
 "metadata": {
  "kernelspec": {
   "display_name": "Python 3",
   "language": "python",
   "name": "python3"
  },
  "language_info": {
   "codemirror_mode": {
    "name": "ipython",
    "version": 3
   },
   "file_extension": ".py",
   "mimetype": "text/x-python",
   "name": "python",
   "nbconvert_exporter": "python",
   "pygments_lexer": "ipython3",
   "version": "3.8.8"
  }
 },
 "nbformat": 4,
 "nbformat_minor": 5
}
